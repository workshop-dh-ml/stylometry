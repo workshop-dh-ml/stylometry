{
 "cells": [
  {
   "cell_type": "code",
   "execution_count": 3,
   "metadata": {},
   "outputs": [],
   "source": [
    "import numpy as np\n",
    "import pandas as pd\n",
    "import matplotlib.pyplot as plt\n",
    "import requests\n",
    "from io import BytesIO\n",
    "import zipfile\n",
    "# \n",
    "# https://programminghistorian.org/en/lessons/introduction-to-stylometry-with-python\n",
    "url = 'https://github.com/programminghistorian/ph-submissions/raw/gh-pages/assets/introduction-to-stylometry-with-python/stylometry-federalist.zip'\n",
    "zipped = requests.get(url).content\n",
    "fp = BytesIO(zipped)\n",
    "zfile = zipfile.ZipFile(fp, \"r\")"
   ]
  },
  {
   "cell_type": "code",
   "execution_count": 15,
   "metadata": {},
   "outputs": [],
   "source": [
    "labels = {\n",
    "    'Madison': [10, 14, 37, 38, 39, 40, 41, 42, 43, 44, 45, 46, 47, 48],\n",
    "    'Hamilton': [1, 6, 7, 8, 9, 11, 12, 13, 15, 16, 17, 21, 22, 23, 24,\n",
    "                 25, 26, 27, 28, 29, 30, 31, 32, 33, 34, 35, 36, 59, 60,\n",
    "                 61, 65, 66, 67, 68, 69, 70, 71, 72, 73, 74, 75, 76, 77,\n",
    "                 78, 79, 80, 81, 82, 83, 84, 85],\n",
    "    'Jay': [2, 3, 4, 5],\n",
    "    'Shared': [18, 19, 20],\n",
    "    'Disputed': [49, 50, 51, 52, 53, 54, 55, 56, 57, 58, 62, 63],\n",
    "    'TestCase': [64]\n",
    "}\n",
    "\n",
    "dataset = []\n",
    "for label, indices in labels.items():\n",
    "    for index in indices:\n",
    "        dataset.append({\n",
    "            \"label\": label,\n",
    "            \"text\": zfile.open(f\"data/federalist_{index}.txt\").read().decode('utf-8')\n",
    "        })\n",
    "dataset = pd.DataFrame(dataset)"
   ]
  },
  {
   "cell_type": "code",
   "execution_count": 16,
   "metadata": {},
   "outputs": [
    {
     "data": {
      "text/html": [
       "<div>\n",
       "<style scoped>\n",
       "    .dataframe tbody tr th:only-of-type {\n",
       "        vertical-align: middle;\n",
       "    }\n",
       "\n",
       "    .dataframe tbody tr th {\n",
       "        vertical-align: top;\n",
       "    }\n",
       "\n",
       "    .dataframe thead th {\n",
       "        text-align: right;\n",
       "    }\n",
       "</style>\n",
       "<table border=\"1\" class=\"dataframe\">\n",
       "  <thead>\n",
       "    <tr style=\"text-align: right;\">\n",
       "      <th></th>\n",
       "      <th>label</th>\n",
       "      <th>text</th>\n",
       "    </tr>\n",
       "  </thead>\n",
       "  <tbody>\n",
       "    <tr>\n",
       "      <th>0</th>\n",
       "      <td>Madison</td>\n",
       "      <td>10\\n\\nThe Same Subject Continued (The Union a...</td>\n",
       "    </tr>\n",
       "    <tr>\n",
       "      <th>1</th>\n",
       "      <td>Madison</td>\n",
       "      <td>14\\n\\nObjections to the Proposed Constitution...</td>\n",
       "    </tr>\n",
       "    <tr>\n",
       "      <th>2</th>\n",
       "      <td>Madison</td>\n",
       "      <td>37\\n\\nConcerning the Difficulties of the Conv...</td>\n",
       "    </tr>\n",
       "    <tr>\n",
       "      <th>3</th>\n",
       "      <td>Madison</td>\n",
       "      <td>38\\n\\nThe Same Subject Continued, and the Inc...</td>\n",
       "    </tr>\n",
       "    <tr>\n",
       "      <th>4</th>\n",
       "      <td>Madison</td>\n",
       "      <td>39\\n\\nThe Conformity of the Plan to Republica...</td>\n",
       "    </tr>\n",
       "    <tr>\n",
       "      <th>...</th>\n",
       "      <td>...</td>\n",
       "      <td>...</td>\n",
       "    </tr>\n",
       "    <tr>\n",
       "      <th>80</th>\n",
       "      <td>Disputed</td>\n",
       "      <td>57\\n\\nThe Alleged Tendency of the New Plan to...</td>\n",
       "    </tr>\n",
       "    <tr>\n",
       "      <th>81</th>\n",
       "      <td>Disputed</td>\n",
       "      <td>58\\n\\nObjection That The Number of Members Wi...</td>\n",
       "    </tr>\n",
       "    <tr>\n",
       "      <th>82</th>\n",
       "      <td>Disputed</td>\n",
       "      <td>62\\n\\nThe Senate\\n\\nFor the Independent Journ...</td>\n",
       "    </tr>\n",
       "    <tr>\n",
       "      <th>83</th>\n",
       "      <td>Disputed</td>\n",
       "      <td>63\\n\\nThe Senate Continued\\n\\nFor the Indepen...</td>\n",
       "    </tr>\n",
       "    <tr>\n",
       "      <th>84</th>\n",
       "      <td>TestCase</td>\n",
       "      <td>64\\n\\nThe Powers of the Senate\\n\\nFrom The In...</td>\n",
       "    </tr>\n",
       "  </tbody>\n",
       "</table>\n",
       "<p>85 rows × 2 columns</p>\n",
       "</div>"
      ],
      "text/plain": [
       "       label                                               text\n",
       "0    Madison   10\\n\\nThe Same Subject Continued (The Union a...\n",
       "1    Madison   14\\n\\nObjections to the Proposed Constitution...\n",
       "2    Madison   37\\n\\nConcerning the Difficulties of the Conv...\n",
       "3    Madison   38\\n\\nThe Same Subject Continued, and the Inc...\n",
       "4    Madison   39\\n\\nThe Conformity of the Plan to Republica...\n",
       "..       ...                                                ...\n",
       "80  Disputed   57\\n\\nThe Alleged Tendency of the New Plan to...\n",
       "81  Disputed   58\\n\\nObjection That The Number of Members Wi...\n",
       "82  Disputed   62\\n\\nThe Senate\\n\\nFor the Independent Journ...\n",
       "83  Disputed   63\\n\\nThe Senate Continued\\n\\nFor the Indepen...\n",
       "84  TestCase   64\\n\\nThe Powers of the Senate\\n\\nFrom The In...\n",
       "\n",
       "[85 rows x 2 columns]"
      ]
     },
     "execution_count": 16,
     "metadata": {},
     "output_type": "execute_result"
    }
   ],
   "source": [
    "dataset"
   ]
  },
  {
   "cell_type": "markdown",
   "metadata": {},
   "source": [
    "## Ex 1: \n",
    "* create equal sized chunks of the text as individual samples\n",
    "* split into train/test/exploration data set `X_train`, `X_test`, ...\n"
   ]
  },
  {
   "cell_type": "code",
   "execution_count": null,
   "metadata": {},
   "outputs": [],
   "source": []
  },
  {
   "cell_type": "markdown",
   "metadata": {},
   "source": [
    "## Ex 2:\n",
    "* implement Burrows' Delta or other variants of stylometric methods"
   ]
  },
  {
   "cell_type": "code",
   "execution_count": 18,
   "metadata": {},
   "outputs": [],
   "source": [
    "class BurrowsDelta:\n",
    "    \n",
    "    def __init__(self, num_words=500):\n",
    "        self.num_words = num_words\n",
    "    \n",
    "    def fit(self, X, y):\n",
    "        self.chosen_words = np.ravel(X.sum(axis=0)).argsort()[::-1][:self.num_words]\n",
    "        sX = X.T[self.chosen_words].toarray()\n",
    "    \n",
    "        ### YOUR CODE BELOW\n",
    "        \n",
    "        # ...\n",
    "        \n",
    "        # self.z_scores = ...\n",
    "        \n",
    "        ### YOUR CODE ABOVE\n",
    "    \n",
    "        self.y = np.array(y)\n",
    "    \n",
    "    def predict(self, X):\n",
    "        ### YOUR CODE BELOW\n",
    "\n",
    "        # ...\n",
    "        \n",
    "        # new_z_scores = ...\n",
    "        ### YOUR CODE ABOVE\n",
    "        \n",
    "        dists = 1-cdist(new_z_scores.T, self.z_scores.T)\n",
    "        \n",
    "        return self.y[dists.argmax(axis=1)]"
   ]
  },
  {
   "cell_type": "code",
   "execution_count": null,
   "metadata": {},
   "outputs": [],
   "source": [
    "cnt_v = TfidfVectorizer()\n",
    "cnt_train = cnt_v.fit_transform(X_train)\n",
    "cnt_test = cnt_v.transform(X_test)\n",
    "\n",
    "clf = BurrowsDelta()\n",
    "clf.fit(cnt_train, y_train)\n",
    "y_pred = clf.predict(cnt_test)\n",
    "\n",
    "print(classification_report(np.array(y_test), y_pred))\n"
   ]
  }
 ],
 "metadata": {
  "kernelspec": {
   "display_name": "wh",
   "language": "python",
   "name": "wh"
  },
  "language_info": {
   "codemirror_mode": {
    "name": "ipython",
    "version": 3
   },
   "file_extension": ".py",
   "mimetype": "text/x-python",
   "name": "python",
   "nbconvert_exporter": "python",
   "pygments_lexer": "ipython3",
   "version": "3.8.8"
  }
 },
 "nbformat": 4,
 "nbformat_minor": 4
}
